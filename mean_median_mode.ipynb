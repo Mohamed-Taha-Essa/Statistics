{
 "cells": [
  {
   "cell_type": "code",
   "execution_count": 68,
   "metadata": {},
   "outputs": [
    {
     "data": {
      "text/plain": [
       "<matplotlib.collections.PathCollection at 0x22f998ea460>"
      ]
     },
     "execution_count": 68,
     "metadata": {},
     "output_type": "execute_result"
    },
    {
     "data": {
      "image/png": "[encoded data removed]",
      "text/plain": [
       "<Figure size 432x288 with 1 Axes>"
      ]
     },
     "metadata": {
      "needs_background": "light"
     },
     "output_type": "display_data"
    }
   ],
   "source": [
    "import matplotlib.pyplot as plt\n",
    "#take a liste of number and return median value\n",
    "def median(liste):\n",
    "    liste.sort()\n",
    "    n = len(liste)\n",
    "    if n%2!=0 :\n",
    "        return liste[int(n/2)]\n",
    "    elif n%2==0:\n",
    "        return (liste[int(n/2)]+liste[(int(n/2)-1)])/2\n",
    "    \n",
    "#take a liste of number and return mean value\n",
    "def mean(liste):\n",
    "    n = len(liste)\n",
    "    sum =0\n",
    "    for i in liste:\n",
    "        sum= sum+i\n",
    "    return sum/n\n",
    "\n",
    "#take a liste of number and return mode by for loob value\n",
    "def mode(liste):\n",
    "    res = 0 \n",
    "    summ =0\n",
    "    for i in liste:\n",
    "        counter = 0\n",
    "        for j in range(len(liste)):\n",
    "            if i == liste[j]:\n",
    "                counter = counter+1\n",
    "                \n",
    "        if counter > res :\n",
    "            res = counter\n",
    "            summ = i\n",
    "            \n",
    "    return res ,summ\n",
    "\n",
    "#take a liste of number and return mode \n",
    "def mode2(liste):\n",
    "    s = set(liste)\n",
    "    slist= list(s)\n",
    "    freq = [data.count(i) for i in slist]\n",
    "    maxIndex =freq.index(max(freq))\n",
    "    return slist[maxIndex]\n",
    "\n",
    "\n",
    "data = [5,8,10,12,7,15,17,18,22,23]\n",
    "y = [0 for i in data] #make a list all value is 0 an num of element = data element\n",
    "m = mean(data)\n",
    "med=median(data)\n",
    "plt.scatter(data , y , color='g' )\n",
    "plt.scatter(m ,[0] ,color = 'r' ,marker='o' )\n",
    "plt.scatter(med ,[0] ,color = 'b' ,marker = 'x')\n",
    "\n"
   ]
  },
  {
   "cell_type": "code",
   "execution_count": 70,
   "metadata": {},
   "outputs": [
    {
     "name": "stdout",
     "output_type": "stream",
     "text": [
      "4 7\n"
     ]
    },
    {
     "data": {
      "text/plain": [
       "7"
      ]
     },
     "execution_count": 70,
     "metadata": {},
     "output_type": "execute_result"
    }
   ],
   "source": [
    "data = [5,8,7,7,7,15,16,7,22,23,5,12,15,17,1,17]\n",
    "x,y = mode(data)\n",
    "print(x,y)\n",
    "mode2(data)"
   ]
  },
  {
   "cell_type": "code",
   "execution_count": null,
   "metadata": {},
   "outputs": [],
   "source": []
  }
 ],
 "metadata": {
  "kernelspec": {
   "display_name": "Python 3",
   "language": "python",
   "name": "python3"
  },
  "language_info": {
   "codemirror_mode": {
    "name": "ipython",
    "version": 3
   },
   "file_extension": ".py",
   "mimetype": "text/x-python",
   "name": "python",
   "nbconvert_exporter": "python",
   "pygments_lexer": "ipython3",
   "version": "3.8.5"
  }
 },
 "nbformat": 4,
 "nbformat_minor": 4
}
